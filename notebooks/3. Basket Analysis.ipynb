{
 "cells": [
  {
   "cell_type": "markdown",
   "id": "29134f83",
   "metadata": {},
   "source": [
    "# Instacart \n",
    "\n",
    "### Basket Analysis\n",
    "\n",
    "The main goal of this project is to carry out an analysis of the shopping cart of Instacart users and identify the relationships between different types of products (which products are usually purchased together?). \n",
    "\n",
    "To carry out this project, we will make use of the FP-Growth algorithm (an improved version of the Apriori algorithm) to find patterns or associations between the purchased products.\n",
    "\n",
    "The main challenge of this dataset is that it does not contain generic products, but highly detailed products (including brands, versions, etc). For this reason, I have decided to test 4 FP Growth algorithm:\n",
    "\n",
    "* Experiment 1: Look for patterns between top 1000 detailed products (in this notebook).\n",
    "* Experiment 2: Look for patterns between ALL detailed products (in this notebook).\n",
    "* Experiment 3: Look for patterns between aisles (in this notebook).\n",
    "* Experiment 4: Transform detailed products into generic ones and apply FP Growth (in notebook 3.1 Improved Basket Analysis - see folder 'notebooks').\n",
    "\n",
    "\n",
    "\n",
    "\n",
    "Libraries:"
   ]
  },
  {
   "cell_type": "code",
   "execution_count": 1,
   "id": "07f3ff44",
   "metadata": {},
   "outputs": [],
   "source": [
    "import pandas as pd\n",
    "import numpy as np\n",
    "import yaml\n",
    "\n",
    "from functions import pack_items_by_order\n",
    "\n",
    "from mlxtend.frequent_patterns import fpgrowth, association_rules\n",
    "from mlxtend.preprocessing import TransactionEncoder"
   ]
  },
  {
   "cell_type": "markdown",
   "id": "f2d91f41",
   "metadata": {},
   "source": [
    "YAML parameters:"
   ]
  },
  {
   "cell_type": "code",
   "execution_count": 2,
   "id": "7cd69d37",
   "metadata": {},
   "outputs": [],
   "source": [
    "try: \n",
    "    with open (\"./../params.yaml\", 'r') as file:\n",
    "        config = yaml.safe_load(file)\n",
    "except Exception as e:\n",
    "    print('Error reading the config file')"
   ]
  },
  {
   "cell_type": "code",
   "execution_count": 3,
   "id": "2c4fbdb2",
   "metadata": {
    "scrolled": true
   },
   "outputs": [
    {
     "name": "stdout",
     "output_type": "stream",
     "text": [
      "(5204393, 15)\n"
     ]
    },
    {
     "data": {
      "text/html": [
       "<div>\n",
       "<style scoped>\n",
       "    .dataframe tbody tr th:only-of-type {\n",
       "        vertical-align: middle;\n",
       "    }\n",
       "\n",
       "    .dataframe tbody tr th {\n",
       "        vertical-align: top;\n",
       "    }\n",
       "\n",
       "    .dataframe thead th {\n",
       "        text-align: right;\n",
       "    }\n",
       "</style>\n",
       "<table border=\"1\" class=\"dataframe\">\n",
       "  <thead>\n",
       "    <tr style=\"text-align: right;\">\n",
       "      <th></th>\n",
       "      <th>order_id</th>\n",
       "      <th>user_id</th>\n",
       "      <th>order_number</th>\n",
       "      <th>order_dow</th>\n",
       "      <th>order_hour_of_day</th>\n",
       "      <th>days_since_prior_order</th>\n",
       "      <th>product_id</th>\n",
       "      <th>add_to_cart_order</th>\n",
       "      <th>reordered</th>\n",
       "      <th>product_name</th>\n",
       "      <th>department_id</th>\n",
       "      <th>aisle_id</th>\n",
       "      <th>aisle</th>\n",
       "      <th>department</th>\n",
       "    </tr>\n",
       "  </thead>\n",
       "  <tbody>\n",
       "    <tr>\n",
       "      <th>0</th>\n",
       "      <td>6</td>\n",
       "      <td>22352</td>\n",
       "      <td>4</td>\n",
       "      <td>1</td>\n",
       "      <td>12</td>\n",
       "      <td>30.0</td>\n",
       "      <td>15873</td>\n",
       "      <td>2</td>\n",
       "      <td>0</td>\n",
       "      <td>Dryer Sheets Geranium Scent</td>\n",
       "      <td>17</td>\n",
       "      <td>75.0</td>\n",
       "      <td>laundry</td>\n",
       "      <td>household</td>\n",
       "    </tr>\n",
       "    <tr>\n",
       "      <th>1</th>\n",
       "      <td>8</td>\n",
       "      <td>3107</td>\n",
       "      <td>5</td>\n",
       "      <td>4</td>\n",
       "      <td>6</td>\n",
       "      <td>17.0</td>\n",
       "      <td>23423</td>\n",
       "      <td>1</td>\n",
       "      <td>1</td>\n",
       "      <td>Original Hawaiian Sweet Rolls</td>\n",
       "      <td>3</td>\n",
       "      <td>43.0</td>\n",
       "      <td>buns rolls</td>\n",
       "      <td>bakery</td>\n",
       "    </tr>\n",
       "    <tr>\n",
       "      <th>2</th>\n",
       "      <td>13</td>\n",
       "      <td>45082</td>\n",
       "      <td>2</td>\n",
       "      <td>6</td>\n",
       "      <td>17</td>\n",
       "      <td>1.0</td>\n",
       "      <td>3800</td>\n",
       "      <td>12</td>\n",
       "      <td>0</td>\n",
       "      <td>Hampshire 100% Natural Sour Cream</td>\n",
       "      <td>16</td>\n",
       "      <td>108.0</td>\n",
       "      <td>other creams cheeses</td>\n",
       "      <td>dairy eggs</td>\n",
       "    </tr>\n",
       "    <tr>\n",
       "      <th>3</th>\n",
       "      <td>13</td>\n",
       "      <td>45082</td>\n",
       "      <td>2</td>\n",
       "      <td>6</td>\n",
       "      <td>17</td>\n",
       "      <td>1.0</td>\n",
       "      <td>25783</td>\n",
       "      <td>7</td>\n",
       "      <td>0</td>\n",
       "      <td>Lemon Lime Thirst Quencher</td>\n",
       "      <td>7</td>\n",
       "      <td>64.0</td>\n",
       "      <td>energy sports drinks</td>\n",
       "      <td>beverages</td>\n",
       "    </tr>\n",
       "    <tr>\n",
       "      <th>4</th>\n",
       "      <td>13</td>\n",
       "      <td>45082</td>\n",
       "      <td>2</td>\n",
       "      <td>6</td>\n",
       "      <td>17</td>\n",
       "      <td>1.0</td>\n",
       "      <td>23020</td>\n",
       "      <td>10</td>\n",
       "      <td>0</td>\n",
       "      <td>Diet Tonic Water</td>\n",
       "      <td>7</td>\n",
       "      <td>77.0</td>\n",
       "      <td>soft drinks</td>\n",
       "      <td>beverages</td>\n",
       "    </tr>\n",
       "  </tbody>\n",
       "</table>\n",
       "</div>"
      ],
      "text/plain": [
       "   order_id  user_id  order_number  order_dow  order_hour_of_day  \\\n",
       "0         6    22352             4          1                 12   \n",
       "1         8     3107             5          4                  6   \n",
       "2        13    45082             2          6                 17   \n",
       "3        13    45082             2          6                 17   \n",
       "4        13    45082             2          6                 17   \n",
       "\n",
       "   days_since_prior_order  product_id  add_to_cart_order  reordered  \\\n",
       "0                    30.0       15873                  2          0   \n",
       "1                    17.0       23423                  1          1   \n",
       "2                     1.0        3800                 12          0   \n",
       "3                     1.0       25783                  7          0   \n",
       "4                     1.0       23020                 10          0   \n",
       "\n",
       "                        product_name  department_id  aisle_id  \\\n",
       "0        Dryer Sheets Geranium Scent             17      75.0   \n",
       "1      Original Hawaiian Sweet Rolls              3      43.0   \n",
       "2  Hampshire 100% Natural Sour Cream             16     108.0   \n",
       "3         Lemon Lime Thirst Quencher              7      64.0   \n",
       "4                   Diet Tonic Water              7      77.0   \n",
       "\n",
       "                  aisle  department  \n",
       "0               laundry   household  \n",
       "1            buns rolls      bakery  \n",
       "2  other creams cheeses  dairy eggs  \n",
       "3  energy sports drinks   beverages  \n",
       "4           soft drinks   beverages  "
      ]
     },
     "execution_count": 3,
     "metadata": {},
     "output_type": "execute_result"
    }
   ],
   "source": [
    "instacart = pd.read_csv(config['data']['instacart_sample'])\n",
    "print(instacart.shape)\n",
    "instacart.drop('Unnamed: 0', axis=1, inplace=True)\n",
    "instacart.head()"
   ]
  },
  {
   "cell_type": "code",
   "execution_count": 4,
   "id": "70537e48",
   "metadata": {},
   "outputs": [],
   "source": [
    "instacart_ba = instacart.copy()"
   ]
  },
  {
   "cell_type": "code",
   "execution_count": 5,
   "id": "135d8749",
   "metadata": {
    "scrolled": false
   },
   "outputs": [
    {
     "data": {
      "text/html": [
       "<div>\n",
       "<style scoped>\n",
       "    .dataframe tbody tr th:only-of-type {\n",
       "        vertical-align: middle;\n",
       "    }\n",
       "\n",
       "    .dataframe tbody tr th {\n",
       "        vertical-align: top;\n",
       "    }\n",
       "\n",
       "    .dataframe thead th {\n",
       "        text-align: right;\n",
       "    }\n",
       "</style>\n",
       "<table border=\"1\" class=\"dataframe\">\n",
       "  <thead>\n",
       "    <tr style=\"text-align: right;\">\n",
       "      <th></th>\n",
       "      <th>order_id</th>\n",
       "      <th>product_name</th>\n",
       "    </tr>\n",
       "  </thead>\n",
       "  <tbody>\n",
       "    <tr>\n",
       "      <th>0</th>\n",
       "      <td>6</td>\n",
       "      <td>Dryer Sheets Geranium Scent</td>\n",
       "    </tr>\n",
       "    <tr>\n",
       "      <th>1</th>\n",
       "      <td>8</td>\n",
       "      <td>Original Hawaiian Sweet Rolls</td>\n",
       "    </tr>\n",
       "    <tr>\n",
       "      <th>2</th>\n",
       "      <td>13</td>\n",
       "      <td>Hampshire 100% Natural Sour Cream</td>\n",
       "    </tr>\n",
       "    <tr>\n",
       "      <th>3</th>\n",
       "      <td>13</td>\n",
       "      <td>Lemon Lime Thirst Quencher</td>\n",
       "    </tr>\n",
       "    <tr>\n",
       "      <th>4</th>\n",
       "      <td>13</td>\n",
       "      <td>Diet Tonic Water</td>\n",
       "    </tr>\n",
       "    <tr>\n",
       "      <th>...</th>\n",
       "      <td>...</td>\n",
       "      <td>...</td>\n",
       "    </tr>\n",
       "    <tr>\n",
       "      <th>5204391</th>\n",
       "      <td>3421083</td>\n",
       "      <td>All Natural French Toast Sticks</td>\n",
       "    </tr>\n",
       "    <tr>\n",
       "      <th>5204387</th>\n",
       "      <td>3421083</td>\n",
       "      <td>Organic Mixed Berry Yogurt &amp; Fruit Snack</td>\n",
       "    </tr>\n",
       "    <tr>\n",
       "      <th>5204386</th>\n",
       "      <td>3421083</td>\n",
       "      <td>Banana</td>\n",
       "    </tr>\n",
       "    <tr>\n",
       "      <th>5204388</th>\n",
       "      <td>3421083</td>\n",
       "      <td>Freeze Dried Mango Slices</td>\n",
       "    </tr>\n",
       "    <tr>\n",
       "      <th>5204392</th>\n",
       "      <td>3421083</td>\n",
       "      <td>Organic Mini Sandwich Crackers Peanut Butter</td>\n",
       "    </tr>\n",
       "  </tbody>\n",
       "</table>\n",
       "<p>5204393 rows × 2 columns</p>\n",
       "</div>"
      ],
      "text/plain": [
       "         order_id                                  product_name\n",
       "0               6                   Dryer Sheets Geranium Scent\n",
       "1               8                 Original Hawaiian Sweet Rolls\n",
       "2              13             Hampshire 100% Natural Sour Cream\n",
       "3              13                    Lemon Lime Thirst Quencher\n",
       "4              13                              Diet Tonic Water\n",
       "...           ...                                           ...\n",
       "5204391   3421083               All Natural French Toast Sticks\n",
       "5204387   3421083      Organic Mixed Berry Yogurt & Fruit Snack\n",
       "5204386   3421083                                        Banana\n",
       "5204388   3421083                     Freeze Dried Mango Slices\n",
       "5204392   3421083  Organic Mini Sandwich Crackers Peanut Butter\n",
       "\n",
       "[5204393 rows x 2 columns]"
      ]
     },
     "execution_count": 5,
     "metadata": {},
     "output_type": "execute_result"
    }
   ],
   "source": [
    "prods = instacart_ba[['order_id', 'product_name']].reset_index(drop=True)\n",
    "prods.sort_values(by='order_id')"
   ]
  },
  {
   "cell_type": "markdown",
   "id": "8e99615b",
   "metadata": {},
   "source": [
    "### Experiment 1: Top 1000 purchased products."
   ]
  },
  {
   "cell_type": "code",
   "execution_count": 6,
   "id": "1b4497bc",
   "metadata": {},
   "outputs": [
    {
     "data": {
      "text/plain": [
       "['Banana',\n",
       " 'Bag of Organic Bananas',\n",
       " 'Organic Strawberries',\n",
       " 'Organic Baby Spinach',\n",
       " 'Strawberries',\n",
       " 'Limes',\n",
       " 'Organic Raspberries',\n",
       " 'Organic Whole Milk',\n",
       " 'Organic Yellow Onion',\n",
       " 'Organic Garlic']"
      ]
     },
     "execution_count": 6,
     "metadata": {},
     "output_type": "execute_result"
    }
   ],
   "source": [
    "prods_to_keep = prods['product_name'].value_counts().sort_values(ascending=False)[0:1000]\n",
    "prods_to_keep = prods_to_keep.index.tolist()\n",
    "prods_to_keep[0:10]"
   ]
  },
  {
   "cell_type": "code",
   "execution_count": 7,
   "id": "ead58797",
   "metadata": {
    "scrolled": true
   },
   "outputs": [
    {
     "data": {
      "text/html": [
       "<div>\n",
       "<style scoped>\n",
       "    .dataframe tbody tr th:only-of-type {\n",
       "        vertical-align: middle;\n",
       "    }\n",
       "\n",
       "    .dataframe tbody tr th {\n",
       "        vertical-align: top;\n",
       "    }\n",
       "\n",
       "    .dataframe thead th {\n",
       "        text-align: right;\n",
       "    }\n",
       "</style>\n",
       "<table border=\"1\" class=\"dataframe\">\n",
       "  <thead>\n",
       "    <tr style=\"text-align: right;\">\n",
       "      <th></th>\n",
       "      <th>order_id</th>\n",
       "      <th>product_name</th>\n",
       "    </tr>\n",
       "  </thead>\n",
       "  <tbody>\n",
       "    <tr>\n",
       "      <th>7</th>\n",
       "      <td>13</td>\n",
       "      <td>Soda</td>\n",
       "    </tr>\n",
       "    <tr>\n",
       "      <th>11</th>\n",
       "      <td>14</td>\n",
       "      <td>Organic Mini Homestyle Waffles</td>\n",
       "    </tr>\n",
       "    <tr>\n",
       "      <th>12</th>\n",
       "      <td>14</td>\n",
       "      <td>Organic Broccoli Florets</td>\n",
       "    </tr>\n",
       "    <tr>\n",
       "      <th>13</th>\n",
       "      <td>14</td>\n",
       "      <td>Naturals Chicken Nuggets</td>\n",
       "    </tr>\n",
       "    <tr>\n",
       "      <th>14</th>\n",
       "      <td>14</td>\n",
       "      <td>Sriracha Chili Sauce</td>\n",
       "    </tr>\n",
       "    <tr>\n",
       "      <th>...</th>\n",
       "      <td>...</td>\n",
       "      <td>...</td>\n",
       "    </tr>\n",
       "    <tr>\n",
       "      <th>5204385</th>\n",
       "      <td>3421068</td>\n",
       "      <td>Strawberries</td>\n",
       "    </tr>\n",
       "    <tr>\n",
       "      <th>5204386</th>\n",
       "      <td>3421083</td>\n",
       "      <td>Banana</td>\n",
       "    </tr>\n",
       "    <tr>\n",
       "      <th>5204387</th>\n",
       "      <td>3421083</td>\n",
       "      <td>Organic Mixed Berry Yogurt &amp; Fruit Snack</td>\n",
       "    </tr>\n",
       "    <tr>\n",
       "      <th>5204390</th>\n",
       "      <td>3421083</td>\n",
       "      <td>Organic Strawberry Yogurt &amp; Fruit Snack</td>\n",
       "    </tr>\n",
       "    <tr>\n",
       "      <th>5204392</th>\n",
       "      <td>3421083</td>\n",
       "      <td>Organic Mini Sandwich Crackers Peanut Butter</td>\n",
       "    </tr>\n",
       "  </tbody>\n",
       "</table>\n",
       "<p>3180218 rows × 2 columns</p>\n",
       "</div>"
      ],
      "text/plain": [
       "         order_id                                  product_name\n",
       "7              13                                          Soda\n",
       "11             14                Organic Mini Homestyle Waffles\n",
       "12             14                      Organic Broccoli Florets\n",
       "13             14                      Naturals Chicken Nuggets\n",
       "14             14                          Sriracha Chili Sauce\n",
       "...           ...                                           ...\n",
       "5204385   3421068                                  Strawberries\n",
       "5204386   3421083                                        Banana\n",
       "5204387   3421083      Organic Mixed Berry Yogurt & Fruit Snack\n",
       "5204390   3421083       Organic Strawberry Yogurt & Fruit Snack\n",
       "5204392   3421083  Organic Mini Sandwich Crackers Peanut Butter\n",
       "\n",
       "[3180218 rows x 2 columns]"
      ]
     },
     "execution_count": 7,
     "metadata": {},
     "output_type": "execute_result"
    }
   ],
   "source": [
    "prods_for_fp = prods.loc[prods['product_name'].isin(prods_to_keep)]\n",
    "prods_for_fp"
   ]
  },
  {
   "cell_type": "markdown",
   "id": "4d052bb1",
   "metadata": {},
   "source": [
    "#### Group products by order_id\n",
    "\n",
    "In order to apply the FP Growth algorithm, it is necessary to create a list of products for each transaction."
   ]
  },
  {
   "cell_type": "code",
   "execution_count": 8,
   "id": "193561f2",
   "metadata": {},
   "outputs": [],
   "source": [
    "order_num = prods['order_id'].unique()\n",
    "prod_lst_1k = pack_items_by_order(order_num, prods_for_fp, 'product_name')"
   ]
  },
  {
   "cell_type": "markdown",
   "id": "848be6ed",
   "metadata": {},
   "source": [
    "#### Test FP Growth Algorithm"
   ]
  },
  {
   "cell_type": "markdown",
   "id": "ed37bd99",
   "metadata": {},
   "source": [
    "##### 1. Encode data"
   ]
  },
  {
   "cell_type": "code",
   "execution_count": 9,
   "id": "9e187326",
   "metadata": {},
   "outputs": [
    {
     "ename": "NameError",
     "evalue": "name 'prod_lst' is not defined",
     "output_type": "error",
     "traceback": [
      "\u001b[1;31m---------------------------------------------------------------------------\u001b[0m",
      "\u001b[1;31mNameError\u001b[0m                                 Traceback (most recent call last)",
      "Input \u001b[1;32mIn [9]\u001b[0m, in \u001b[0;36m<cell line: 2>\u001b[1;34m()\u001b[0m\n\u001b[0;32m      1\u001b[0m te_1k \u001b[38;5;241m=\u001b[39m TransactionEncoder()\n\u001b[1;32m----> 2\u001b[0m te_ary_1k \u001b[38;5;241m=\u001b[39m te_1k\u001b[38;5;241m.\u001b[39mfit(\u001b[43mprod_lst\u001b[49m)\u001b[38;5;241m.\u001b[39mtransform(prod_lst)\n\u001b[0;32m      3\u001b[0m te_ary_1k\n",
      "\u001b[1;31mNameError\u001b[0m: name 'prod_lst' is not defined"
     ]
    }
   ],
   "source": [
    "te = TransactionEncoder()\n",
    "te_ary_1k = te.fit(prod_lst).transform(prod_lst)\n",
    "te_ary_1k"
   ]
  },
  {
   "cell_type": "code",
   "execution_count": null,
   "id": "cf95c0fb",
   "metadata": {},
   "outputs": [],
   "source": [
    "encoded_df_1k = pd.DataFrame(te_ary_1k, columns = te.columns_)\n",
    "encoded_df_1k.head()"
   ]
  },
  {
   "cell_type": "markdown",
   "id": "7871d61d",
   "metadata": {},
   "source": [
    "##### 2. Apply FP Growth"
   ]
  },
  {
   "cell_type": "code",
   "execution_count": null,
   "id": "441fbea5",
   "metadata": {},
   "outputs": [],
   "source": [
    "freq_items_fp_1k = fpgrowth(encoded_df_1k, min_support=0.01, use_colnames=True)\n",
    "freq_items_fp_1k"
   ]
  },
  {
   "cell_type": "markdown",
   "id": "6cd690a1",
   "metadata": {},
   "source": [
    "##### 3. Rules:"
   ]
  },
  {
   "cell_type": "code",
   "execution_count": null,
   "id": "48d73f94",
   "metadata": {},
   "outputs": [],
   "source": [
    "rules_fp = association_rules(freq_items_fp_1k, metric='confidence', min_threshold=0.1)\n",
    "rules_fp"
   ]
  },
  {
   "cell_type": "markdown",
   "id": "521a6736",
   "metadata": {},
   "source": [
    "### Experiment 2: All products."
   ]
  },
  {
   "cell_type": "code",
   "execution_count": null,
   "id": "ebebc766",
   "metadata": {},
   "outputs": [],
   "source": [
    "prod_lst = pack_items_by_order(order_num, prods, 'product_name')"
   ]
  },
  {
   "cell_type": "code",
   "execution_count": null,
   "id": "651e1773",
   "metadata": {},
   "outputs": [],
   "source": [
    "basket = pd.DataFrame(order_num, columns = ['transaction'])\n",
    "basket.head()"
   ]
  },
  {
   "cell_type": "code",
   "execution_count": null,
   "id": "de9f015e",
   "metadata": {
    "scrolled": true
   },
   "outputs": [],
   "source": [
    "basket['products_ordered'] = [lst for lst in prod_lst]\n",
    "basket.head()"
   ]
  },
  {
   "cell_type": "markdown",
   "id": "d94e3a96",
   "metadata": {},
   "source": [
    "### FP Growth\n",
    "\n",
    "#### 1. Encode data."
   ]
  },
  {
   "cell_type": "code",
   "execution_count": null,
   "id": "f7462c26",
   "metadata": {},
   "outputs": [],
   "source": [
    "te = TransactionEncoder()\n",
    "te_ary = te.fit(prod_lst).transform(prod_lst)\n",
    "te_ary"
   ]
  },
  {
   "cell_type": "code",
   "execution_count": null,
   "id": "8eefc967",
   "metadata": {},
   "outputs": [],
   "source": [
    "encoded_df = pd.DataFrame(te_ary, columns = te.columns_)\n",
    "encoded_df.head()"
   ]
  },
  {
   "cell_type": "markdown",
   "id": "50980847",
   "metadata": {},
   "source": [
    "##### Frequent itemsets."
   ]
  },
  {
   "cell_type": "code",
   "execution_count": null,
   "id": "8fca7479",
   "metadata": {},
   "outputs": [],
   "source": [
    "freq_items_fp = fpgrowth(encoded_df, min_support=0.01, use_colnames=True)"
   ]
  },
  {
   "cell_type": "code",
   "execution_count": null,
   "id": "922a0b53",
   "metadata": {
    "scrolled": true
   },
   "outputs": [],
   "source": [
    "freq_items_fp"
   ]
  },
  {
   "cell_type": "markdown",
   "id": "cd38664f",
   "metadata": {},
   "source": [
    "##### Rules:"
   ]
  },
  {
   "cell_type": "code",
   "execution_count": null,
   "id": "d1a52aa0",
   "metadata": {},
   "outputs": [],
   "source": [
    "rules_fp = association_rules(freq_items_fp, metric='confidence', min_threshold=0.1)\n",
    "rules_fp"
   ]
  },
  {
   "cell_type": "markdown",
   "id": "e0b59ffa",
   "metadata": {},
   "source": [
    "## Look for associations between aisles."
   ]
  },
  {
   "cell_type": "code",
   "execution_count": null,
   "id": "ca265cb0",
   "metadata": {
    "scrolled": false
   },
   "outputs": [],
   "source": [
    "aisle_df = instacart_ba[['order_id','aisle']]\n",
    "aisle_df.head()"
   ]
  },
  {
   "cell_type": "markdown",
   "id": "8575c312",
   "metadata": {},
   "source": [
    "Get list of aisles by order_id."
   ]
  },
  {
   "cell_type": "code",
   "execution_count": null,
   "id": "6ea16eac",
   "metadata": {},
   "outputs": [],
   "source": [
    "aisle_lst = pack_items_by_order(order_num, aisle_df, 'aisle'"
   ]
  },
  {
   "cell_type": "code",
   "execution_count": null,
   "id": "0a7f12a7",
   "metadata": {
    "scrolled": true
   },
   "outputs": [],
   "source": [
    "aisle_df_fp = pd.DataFrame(order_num, columns = ['num_order'])\n",
    "aisle_df_fp['aisles'] = [lst for lst in aisle_lst]\n",
    "aisle_df_fp.head()"
   ]
  },
  {
   "cell_type": "markdown",
   "id": "3a555599",
   "metadata": {},
   "source": [
    "#### Encode data."
   ]
  },
  {
   "cell_type": "code",
   "execution_count": null,
   "id": "c11ff225",
   "metadata": {},
   "outputs": [],
   "source": [
    "te_ary_2 = te.fit(aisle_lst).transform(aisle_lst)\n",
    "te_ary_2"
   ]
  },
  {
   "cell_type": "code",
   "execution_count": null,
   "id": "d030c141",
   "metadata": {
    "scrolled": true
   },
   "outputs": [],
   "source": [
    "aisle_enc = pd.DataFrame(te_ary_2, columns = te.columns_)\n",
    "aisle_enc.head()"
   ]
  },
  {
   "cell_type": "markdown",
   "id": "2c7dea75",
   "metadata": {},
   "source": [
    "#### Apply FP Growth"
   ]
  },
  {
   "cell_type": "code",
   "execution_count": null,
   "id": "4a20b122",
   "metadata": {
    "scrolled": true
   },
   "outputs": [],
   "source": [
    "freq_items_aisles = fpgrowth(aisle_enc, min_support=0.1, use_colnames=True)\n",
    "freq_items_aisles"
   ]
  },
  {
   "cell_type": "markdown",
   "id": "7afa496e",
   "metadata": {},
   "source": [
    "### Aisle Rules:"
   ]
  },
  {
   "cell_type": "code",
   "execution_count": null,
   "id": "6357edb4",
   "metadata": {
    "scrolled": true
   },
   "outputs": [],
   "source": [
    "rules_aisles = association_rules(freq_items_aisles, metric='confidence', min_threshold=0.3)\n",
    "rules_aisles"
   ]
  }
 ],
 "metadata": {
  "kernelspec": {
   "display_name": "Python 3 (ipykernel)",
   "language": "python",
   "name": "python3"
  },
  "language_info": {
   "codemirror_mode": {
    "name": "ipython",
    "version": 3
   },
   "file_extension": ".py",
   "mimetype": "text/x-python",
   "name": "python",
   "nbconvert_exporter": "python",
   "pygments_lexer": "ipython3",
   "version": "3.9.13"
  }
 },
 "nbformat": 4,
 "nbformat_minor": 5
}
