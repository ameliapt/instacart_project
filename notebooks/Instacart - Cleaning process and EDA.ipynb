{
 "cells": [
  {
   "cell_type": "markdown",
   "id": "8d420009",
   "metadata": {},
   "source": [
    "# Instacart - PROJECT NAME\n",
    "\n",
    "## Data cleaning process\n",
    "\n",
    "Libraries."
   ]
  },
  {
   "cell_type": "code",
   "execution_count": 1,
   "id": "41392445",
   "metadata": {},
   "outputs": [],
   "source": [
    "import pandas as pd\n",
    "import numpy as np\n",
    "import matplotlib.pyplot as plt\n",
    "import seaborn as sns"
   ]
  },
  {
   "cell_type": "markdown",
   "id": "fb10ef52",
   "metadata": {},
   "source": [
    "### Step 1\n",
    "\n",
    "Load datasets and preprocess data. Instacart customer purchase information is divided into 6 datasets:\n",
    "\n",
    "1. Aisles\n",
    "2. Departments\n",
    "3. Order_products__prior (This table includes training orders and indicates whether a product in an order is a reorder or not (through the reordered variable)\n",
    "5. Orders\n",
    "6. Products\n",
    "\n",
    "I have perfomed some join operations with MYSQL to merge Aisles, Departments and Products files. The resulting dataset is named info.csv."
   ]
  },
  {
   "cell_type": "code",
   "execution_count": 2,
   "id": "6cab506c",
   "metadata": {
    "scrolled": true
   },
   "outputs": [
    {
     "name": "stdout",
     "output_type": "stream",
     "text": [
      "-- NULL VALUES --\n",
      "product_id       21\n",
      "product_name      0\n",
      "department_id     0\n",
      "aisle_id         21\n",
      "aisle            21\n",
      "department        0\n",
      "dtype: int64 \n",
      "\n",
      "-- INFO --\n",
      "<class 'pandas.core.frame.DataFrame'>\n",
      "RangeIndex: 32994 entries, 0 to 32993\n",
      "Data columns (total 6 columns):\n",
      " #   Column         Non-Null Count  Dtype  \n",
      "---  ------         --------------  -----  \n",
      " 0   product_id     32973 non-null  float64\n",
      " 1   product_name   32994 non-null  object \n",
      " 2   department_id  32994 non-null  int64  \n",
      " 3   aisle_id       32973 non-null  float64\n",
      " 4   aisle          32973 non-null  object \n",
      " 5   department     32994 non-null  object \n",
      "dtypes: float64(2), int64(1), object(3)\n",
      "memory usage: 1.5+ MB\n",
      "\n",
      "-- SUMMARY --\n"
     ]
    },
    {
     "data": {
      "text/html": [
       "<div>\n",
       "<style scoped>\n",
       "    .dataframe tbody tr th:only-of-type {\n",
       "        vertical-align: middle;\n",
       "    }\n",
       "\n",
       "    .dataframe tbody tr th {\n",
       "        vertical-align: top;\n",
       "    }\n",
       "\n",
       "    .dataframe thead th {\n",
       "        text-align: right;\n",
       "    }\n",
       "</style>\n",
       "<table border=\"1\" class=\"dataframe\">\n",
       "  <thead>\n",
       "    <tr style=\"text-align: right;\">\n",
       "      <th></th>\n",
       "      <th>count</th>\n",
       "      <th>mean</th>\n",
       "      <th>std</th>\n",
       "      <th>min</th>\n",
       "      <th>25%</th>\n",
       "      <th>50%</th>\n",
       "      <th>75%</th>\n",
       "      <th>max</th>\n",
       "    </tr>\n",
       "  </thead>\n",
       "  <tbody>\n",
       "    <tr>\n",
       "      <th>product_id</th>\n",
       "      <td>32973.0</td>\n",
       "      <td>16487.79</td>\n",
       "      <td>9518.91</td>\n",
       "      <td>1.0</td>\n",
       "      <td>8245.0</td>\n",
       "      <td>16488.0</td>\n",
       "      <td>24731.0</td>\n",
       "      <td>32974.0</td>\n",
       "    </tr>\n",
       "    <tr>\n",
       "      <th>department_id</th>\n",
       "      <td>32994.0</td>\n",
       "      <td>11.73</td>\n",
       "      <td>5.84</td>\n",
       "      <td>1.0</td>\n",
       "      <td>7.0</td>\n",
       "      <td>13.0</td>\n",
       "      <td>17.0</td>\n",
       "      <td>21.0</td>\n",
       "    </tr>\n",
       "    <tr>\n",
       "      <th>aisle_id</th>\n",
       "      <td>32973.0</td>\n",
       "      <td>67.65</td>\n",
       "      <td>38.35</td>\n",
       "      <td>1.0</td>\n",
       "      <td>34.0</td>\n",
       "      <td>69.0</td>\n",
       "      <td>100.0</td>\n",
       "      <td>134.0</td>\n",
       "    </tr>\n",
       "  </tbody>\n",
       "</table>\n",
       "</div>"
      ],
      "text/plain": [
       "                 count      mean      std  min     25%      50%      75%  \\\n",
       "product_id     32973.0  16487.79  9518.91  1.0  8245.0  16488.0  24731.0   \n",
       "department_id  32994.0     11.73     5.84  1.0     7.0     13.0     17.0   \n",
       "aisle_id       32973.0     67.65    38.35  1.0    34.0     69.0    100.0   \n",
       "\n",
       "                   max  \n",
       "product_id     32974.0  \n",
       "department_id     21.0  \n",
       "aisle_id         134.0  "
      ]
     },
     "metadata": {},
     "output_type": "display_data"
    },
    {
     "data": {
      "text/html": [
       "<div>\n",
       "<style scoped>\n",
       "    .dataframe tbody tr th:only-of-type {\n",
       "        vertical-align: middle;\n",
       "    }\n",
       "\n",
       "    .dataframe tbody tr th {\n",
       "        vertical-align: top;\n",
       "    }\n",
       "\n",
       "    .dataframe thead th {\n",
       "        text-align: right;\n",
       "    }\n",
       "</style>\n",
       "<table border=\"1\" class=\"dataframe\">\n",
       "  <thead>\n",
       "    <tr style=\"text-align: right;\">\n",
       "      <th></th>\n",
       "      <th>count</th>\n",
       "      <th>unique</th>\n",
       "      <th>top</th>\n",
       "      <th>freq</th>\n",
       "    </tr>\n",
       "  </thead>\n",
       "  <tbody>\n",
       "    <tr>\n",
       "      <th>product_name</th>\n",
       "      <td>32994</td>\n",
       "      <td>32994</td>\n",
       "      <td>Lasagna Bake with Meat Sauce</td>\n",
       "      <td>1</td>\n",
       "    </tr>\n",
       "    <tr>\n",
       "      <th>aisle</th>\n",
       "      <td>32973</td>\n",
       "      <td>134</td>\n",
       "      <td>missing</td>\n",
       "      <td>812</td>\n",
       "    </tr>\n",
       "    <tr>\n",
       "      <th>department</th>\n",
       "      <td>32994</td>\n",
       "      <td>21</td>\n",
       "      <td>personal care</td>\n",
       "      <td>4382</td>\n",
       "    </tr>\n",
       "  </tbody>\n",
       "</table>\n",
       "</div>"
      ],
      "text/plain": [
       "              count unique                           top  freq\n",
       "product_name  32994  32994  Lasagna Bake with Meat Sauce     1\n",
       "aisle         32973    134                       missing   812\n",
       "department    32994     21                 personal care  4382"
      ]
     },
     "metadata": {},
     "output_type": "display_data"
    },
    {
     "name": "stdout",
     "output_type": "stream",
     "text": [
      "\n",
      "-- FIRST 5 ROWS --\n"
     ]
    },
    {
     "data": {
      "text/html": [
       "<div>\n",
       "<style scoped>\n",
       "    .dataframe tbody tr th:only-of-type {\n",
       "        vertical-align: middle;\n",
       "    }\n",
       "\n",
       "    .dataframe tbody tr th {\n",
       "        vertical-align: top;\n",
       "    }\n",
       "\n",
       "    .dataframe thead th {\n",
       "        text-align: right;\n",
       "    }\n",
       "</style>\n",
       "<table border=\"1\" class=\"dataframe\">\n",
       "  <thead>\n",
       "    <tr style=\"text-align: right;\">\n",
       "      <th></th>\n",
       "      <th>product_id</th>\n",
       "      <th>product_name</th>\n",
       "      <th>department_id</th>\n",
       "      <th>aisle_id</th>\n",
       "      <th>aisle</th>\n",
       "      <th>department</th>\n",
       "    </tr>\n",
       "  </thead>\n",
       "  <tbody>\n",
       "    <tr>\n",
       "      <th>0</th>\n",
       "      <td>3647.0</td>\n",
       "      <td>Soft Dinner 6 Ct White Rolls</td>\n",
       "      <td>1</td>\n",
       "      <td>58.0</td>\n",
       "      <td>frozen breads doughs</td>\n",
       "      <td>frozen</td>\n",
       "    </tr>\n",
       "    <tr>\n",
       "      <th>1</th>\n",
       "      <td>3646.0</td>\n",
       "      <td>Eggo Breakfast Sandwich Bacon Egg Cheese</td>\n",
       "      <td>1</td>\n",
       "      <td>52.0</td>\n",
       "      <td>frozen breakfast</td>\n",
       "      <td>frozen</td>\n",
       "    </tr>\n",
       "    <tr>\n",
       "      <th>2</th>\n",
       "      <td>3645.0</td>\n",
       "      <td>Creamed Spinach</td>\n",
       "      <td>1</td>\n",
       "      <td>116.0</td>\n",
       "      <td>frozen produce</td>\n",
       "      <td>frozen</td>\n",
       "    </tr>\n",
       "    <tr>\n",
       "      <th>3</th>\n",
       "      <td>3628.0</td>\n",
       "      <td>Gluten Free Paleo Fettuccine</td>\n",
       "      <td>1</td>\n",
       "      <td>38.0</td>\n",
       "      <td>frozen meals</td>\n",
       "      <td>frozen</td>\n",
       "    </tr>\n",
       "    <tr>\n",
       "      <th>4</th>\n",
       "      <td>3608.0</td>\n",
       "      <td>Brie &amp; Raspberry Bake &amp; Serve Fillo Rolls</td>\n",
       "      <td>1</td>\n",
       "      <td>129.0</td>\n",
       "      <td>frozen appetizers sides</td>\n",
       "      <td>frozen</td>\n",
       "    </tr>\n",
       "  </tbody>\n",
       "</table>\n",
       "</div>"
      ],
      "text/plain": [
       "   product_id                               product_name  department_id  \\\n",
       "0      3647.0               Soft Dinner 6 Ct White Rolls              1   \n",
       "1      3646.0   Eggo Breakfast Sandwich Bacon Egg Cheese              1   \n",
       "2      3645.0                            Creamed Spinach              1   \n",
       "3      3628.0               Gluten Free Paleo Fettuccine              1   \n",
       "4      3608.0  Brie & Raspberry Bake & Serve Fillo Rolls              1   \n",
       "\n",
       "   aisle_id                    aisle department  \n",
       "0      58.0     frozen breads doughs     frozen  \n",
       "1      52.0         frozen breakfast     frozen  \n",
       "2     116.0           frozen produce     frozen  \n",
       "3      38.0             frozen meals     frozen  \n",
       "4     129.0  frozen appetizers sides     frozen  "
      ]
     },
     "execution_count": 2,
     "metadata": {},
     "output_type": "execute_result"
    }
   ],
   "source": [
    "info = pd.read_csv('../data/info.csv')\n",
    "print('-- NULL VALUES --')\n",
    "print(info.isna().sum(), '\\n')\n",
    "print('-- INFO --')\n",
    "info.info()\n",
    "print()\n",
    "print('-- SUMMARY --')\n",
    "display(round(info.describe().T,2))\n",
    "display(round(info.describe(include=object).T,2))\n",
    "print()\n",
    "print('-- FIRST 5 ROWS --')\n",
    "info.head()"
   ]
  },
  {
   "cell_type": "code",
   "execution_count": 3,
   "id": "edc498d7",
   "metadata": {},
   "outputs": [
    {
     "data": {
      "text/plain": [
       "32973"
      ]
     },
     "execution_count": 3,
     "metadata": {},
     "output_type": "execute_result"
    }
   ],
   "source": [
    "info['product_id'].nunique()"
   ]
  },
  {
   "cell_type": "markdown",
   "id": "89a83aa3",
   "metadata": {},
   "source": [
    "*Cols meaning*\n",
    "* order_dow: Day Of Week\n",
    "* eval_set: which evaluation set this order belongs in (see train and prior dataset described below)\n",
    "* order_number: the order sequence number for this user (1 = first, n = nth)\n",
    "* days_since_prior: days since the last order, capped at 30 (with NAs for order_number = 1)\n",
    "* add_to_cart_order: order in which each product was added to cart\n",
    "* reordered: 1 if this product has been ordered by this user in the past, 0 otherwise\n",
    "* “prior”: orders prior to that users most recent order"
   ]
  },
  {
   "cell_type": "markdown",
   "id": "08173c96",
   "metadata": {},
   "source": [
    "#### Merging orders files."
   ]
  },
  {
   "cell_type": "code",
   "execution_count": 4,
   "id": "1cd0968b",
   "metadata": {
    "scrolled": true
   },
   "outputs": [
    {
     "name": "stdout",
     "output_type": "stream",
     "text": [
      "-- NULL VALUES --\n",
      "order_id                       0\n",
      "user_id                        0\n",
      "eval_set                       0\n",
      "order_number                   0\n",
      "order_dow                      0\n",
      "order_hour_of_day              0\n",
      "days_since_prior_order    206209\n",
      "dtype: int64 \n",
      "\n",
      "-- INFO --\n",
      "<class 'pandas.core.frame.DataFrame'>\n",
      "RangeIndex: 3421083 entries, 0 to 3421082\n",
      "Data columns (total 7 columns):\n",
      " #   Column                  Dtype  \n",
      "---  ------                  -----  \n",
      " 0   order_id                int64  \n",
      " 1   user_id                 int64  \n",
      " 2   eval_set                object \n",
      " 3   order_number            int64  \n",
      " 4   order_dow               int64  \n",
      " 5   order_hour_of_day       int64  \n",
      " 6   days_since_prior_order  float64\n",
      "dtypes: float64(1), int64(5), object(1)\n",
      "memory usage: 182.7+ MB\n",
      "\n",
      "-- SUMMARY --\n"
     ]
    },
    {
     "data": {
      "text/html": [
       "<div>\n",
       "<style scoped>\n",
       "    .dataframe tbody tr th:only-of-type {\n",
       "        vertical-align: middle;\n",
       "    }\n",
       "\n",
       "    .dataframe tbody tr th {\n",
       "        vertical-align: top;\n",
       "    }\n",
       "\n",
       "    .dataframe thead th {\n",
       "        text-align: right;\n",
       "    }\n",
       "</style>\n",
       "<table border=\"1\" class=\"dataframe\">\n",
       "  <thead>\n",
       "    <tr style=\"text-align: right;\">\n",
       "      <th></th>\n",
       "      <th>count</th>\n",
       "      <th>mean</th>\n",
       "      <th>std</th>\n",
       "      <th>min</th>\n",
       "      <th>25%</th>\n",
       "      <th>50%</th>\n",
       "      <th>75%</th>\n",
       "      <th>max</th>\n",
       "    </tr>\n",
       "  </thead>\n",
       "  <tbody>\n",
       "    <tr>\n",
       "      <th>order_id</th>\n",
       "      <td>3421083.0</td>\n",
       "      <td>1710542.00</td>\n",
       "      <td>987581.74</td>\n",
       "      <td>1.0</td>\n",
       "      <td>855271.5</td>\n",
       "      <td>1710542.0</td>\n",
       "      <td>2565812.5</td>\n",
       "      <td>3421083.0</td>\n",
       "    </tr>\n",
       "    <tr>\n",
       "      <th>user_id</th>\n",
       "      <td>3421083.0</td>\n",
       "      <td>102978.21</td>\n",
       "      <td>59533.72</td>\n",
       "      <td>1.0</td>\n",
       "      <td>51394.0</td>\n",
       "      <td>102689.0</td>\n",
       "      <td>154385.0</td>\n",
       "      <td>206209.0</td>\n",
       "    </tr>\n",
       "    <tr>\n",
       "      <th>order_number</th>\n",
       "      <td>3421083.0</td>\n",
       "      <td>17.15</td>\n",
       "      <td>17.73</td>\n",
       "      <td>1.0</td>\n",
       "      <td>5.0</td>\n",
       "      <td>11.0</td>\n",
       "      <td>23.0</td>\n",
       "      <td>100.0</td>\n",
       "    </tr>\n",
       "    <tr>\n",
       "      <th>order_dow</th>\n",
       "      <td>3421083.0</td>\n",
       "      <td>2.78</td>\n",
       "      <td>2.05</td>\n",
       "      <td>0.0</td>\n",
       "      <td>1.0</td>\n",
       "      <td>3.0</td>\n",
       "      <td>5.0</td>\n",
       "      <td>6.0</td>\n",
       "    </tr>\n",
       "    <tr>\n",
       "      <th>order_hour_of_day</th>\n",
       "      <td>3421083.0</td>\n",
       "      <td>13.45</td>\n",
       "      <td>4.23</td>\n",
       "      <td>0.0</td>\n",
       "      <td>10.0</td>\n",
       "      <td>13.0</td>\n",
       "      <td>16.0</td>\n",
       "      <td>23.0</td>\n",
       "    </tr>\n",
       "    <tr>\n",
       "      <th>days_since_prior_order</th>\n",
       "      <td>3214874.0</td>\n",
       "      <td>11.11</td>\n",
       "      <td>9.21</td>\n",
       "      <td>0.0</td>\n",
       "      <td>4.0</td>\n",
       "      <td>7.0</td>\n",
       "      <td>15.0</td>\n",
       "      <td>30.0</td>\n",
       "    </tr>\n",
       "  </tbody>\n",
       "</table>\n",
       "</div>"
      ],
      "text/plain": [
       "                            count        mean        std  min       25%  \\\n",
       "order_id                3421083.0  1710542.00  987581.74  1.0  855271.5   \n",
       "user_id                 3421083.0   102978.21   59533.72  1.0   51394.0   \n",
       "order_number            3421083.0       17.15      17.73  1.0       5.0   \n",
       "order_dow               3421083.0        2.78       2.05  0.0       1.0   \n",
       "order_hour_of_day       3421083.0       13.45       4.23  0.0      10.0   \n",
       "days_since_prior_order  3214874.0       11.11       9.21  0.0       4.0   \n",
       "\n",
       "                              50%        75%        max  \n",
       "order_id                1710542.0  2565812.5  3421083.0  \n",
       "user_id                  102689.0   154385.0   206209.0  \n",
       "order_number                 11.0       23.0      100.0  \n",
       "order_dow                     3.0        5.0        6.0  \n",
       "order_hour_of_day            13.0       16.0       23.0  \n",
       "days_since_prior_order        7.0       15.0       30.0  "
      ]
     },
     "metadata": {},
     "output_type": "display_data"
    },
    {
     "data": {
      "text/html": [
       "<div>\n",
       "<style scoped>\n",
       "    .dataframe tbody tr th:only-of-type {\n",
       "        vertical-align: middle;\n",
       "    }\n",
       "\n",
       "    .dataframe tbody tr th {\n",
       "        vertical-align: top;\n",
       "    }\n",
       "\n",
       "    .dataframe thead th {\n",
       "        text-align: right;\n",
       "    }\n",
       "</style>\n",
       "<table border=\"1\" class=\"dataframe\">\n",
       "  <thead>\n",
       "    <tr style=\"text-align: right;\">\n",
       "      <th></th>\n",
       "      <th>count</th>\n",
       "      <th>unique</th>\n",
       "      <th>top</th>\n",
       "      <th>freq</th>\n",
       "    </tr>\n",
       "  </thead>\n",
       "  <tbody>\n",
       "    <tr>\n",
       "      <th>eval_set</th>\n",
       "      <td>3421083</td>\n",
       "      <td>3</td>\n",
       "      <td>prior</td>\n",
       "      <td>3214874</td>\n",
       "    </tr>\n",
       "  </tbody>\n",
       "</table>\n",
       "</div>"
      ],
      "text/plain": [
       "            count unique    top     freq\n",
       "eval_set  3421083      3  prior  3214874"
      ]
     },
     "metadata": {},
     "output_type": "display_data"
    },
    {
     "name": "stdout",
     "output_type": "stream",
     "text": [
      "\n",
      "-- FIRST 5 ROWS --\n"
     ]
    },
    {
     "data": {
      "text/html": [
       "<div>\n",
       "<style scoped>\n",
       "    .dataframe tbody tr th:only-of-type {\n",
       "        vertical-align: middle;\n",
       "    }\n",
       "\n",
       "    .dataframe tbody tr th {\n",
       "        vertical-align: top;\n",
       "    }\n",
       "\n",
       "    .dataframe thead th {\n",
       "        text-align: right;\n",
       "    }\n",
       "</style>\n",
       "<table border=\"1\" class=\"dataframe\">\n",
       "  <thead>\n",
       "    <tr style=\"text-align: right;\">\n",
       "      <th></th>\n",
       "      <th>order_id</th>\n",
       "      <th>user_id</th>\n",
       "      <th>eval_set</th>\n",
       "      <th>order_number</th>\n",
       "      <th>order_dow</th>\n",
       "      <th>order_hour_of_day</th>\n",
       "      <th>days_since_prior_order</th>\n",
       "    </tr>\n",
       "  </thead>\n",
       "  <tbody>\n",
       "    <tr>\n",
       "      <th>0</th>\n",
       "      <td>2539329</td>\n",
       "      <td>1</td>\n",
       "      <td>prior</td>\n",
       "      <td>1</td>\n",
       "      <td>2</td>\n",
       "      <td>8</td>\n",
       "      <td>NaN</td>\n",
       "    </tr>\n",
       "    <tr>\n",
       "      <th>1</th>\n",
       "      <td>2398795</td>\n",
       "      <td>1</td>\n",
       "      <td>prior</td>\n",
       "      <td>2</td>\n",
       "      <td>3</td>\n",
       "      <td>7</td>\n",
       "      <td>15.0</td>\n",
       "    </tr>\n",
       "    <tr>\n",
       "      <th>2</th>\n",
       "      <td>473747</td>\n",
       "      <td>1</td>\n",
       "      <td>prior</td>\n",
       "      <td>3</td>\n",
       "      <td>3</td>\n",
       "      <td>12</td>\n",
       "      <td>21.0</td>\n",
       "    </tr>\n",
       "    <tr>\n",
       "      <th>3</th>\n",
       "      <td>2254736</td>\n",
       "      <td>1</td>\n",
       "      <td>prior</td>\n",
       "      <td>4</td>\n",
       "      <td>4</td>\n",
       "      <td>7</td>\n",
       "      <td>29.0</td>\n",
       "    </tr>\n",
       "    <tr>\n",
       "      <th>4</th>\n",
       "      <td>431534</td>\n",
       "      <td>1</td>\n",
       "      <td>prior</td>\n",
       "      <td>5</td>\n",
       "      <td>4</td>\n",
       "      <td>15</td>\n",
       "      <td>28.0</td>\n",
       "    </tr>\n",
       "  </tbody>\n",
       "</table>\n",
       "</div>"
      ],
      "text/plain": [
       "   order_id  user_id eval_set  order_number  order_dow  order_hour_of_day  \\\n",
       "0   2539329        1    prior             1          2                  8   \n",
       "1   2398795        1    prior             2          3                  7   \n",
       "2    473747        1    prior             3          3                 12   \n",
       "3   2254736        1    prior             4          4                  7   \n",
       "4    431534        1    prior             5          4                 15   \n",
       "\n",
       "   days_since_prior_order  \n",
       "0                     NaN  \n",
       "1                    15.0  \n",
       "2                    21.0  \n",
       "3                    29.0  \n",
       "4                    28.0  "
      ]
     },
     "execution_count": 4,
     "metadata": {},
     "output_type": "execute_result"
    }
   ],
   "source": [
    "orders = pd.read_csv('../data/orders.csv')\n",
    "print('-- NULL VALUES --')\n",
    "print(orders.isna().sum(), '\\n')\n",
    "print('-- INFO --')\n",
    "orders.info()\n",
    "print()\n",
    "print('-- SUMMARY --')\n",
    "display(round(orders.describe().T,2))\n",
    "display(round(orders.describe(include=object).T,2))\n",
    "print()\n",
    "print('-- FIRST 5 ROWS --')\n",
    "orders.head()"
   ]
  },
  {
   "cell_type": "code",
   "execution_count": 5,
   "id": "52c36211",
   "metadata": {
    "scrolled": true
   },
   "outputs": [
    {
     "ename": "MemoryError",
     "evalue": "Unable to allocate 990. MiB for an array with shape (4, 32434489) and data type int64",
     "output_type": "error",
     "traceback": [
      "\u001b[1;31m---------------------------------------------------------------------------\u001b[0m",
      "\u001b[1;31mMemoryError\u001b[0m                               Traceback (most recent call last)",
      "Input \u001b[1;32mIn [5]\u001b[0m, in \u001b[0;36m<cell line: 1>\u001b[1;34m()\u001b[0m\n\u001b[1;32m----> 1\u001b[0m order_products_prior \u001b[38;5;241m=\u001b[39m \u001b[43mpd\u001b[49m\u001b[38;5;241;43m.\u001b[39;49m\u001b[43mread_csv\u001b[49m\u001b[43m(\u001b[49m\u001b[38;5;124;43m'\u001b[39;49m\u001b[38;5;124;43m../data/order_products__prior.csv\u001b[39;49m\u001b[38;5;124;43m'\u001b[39;49m\u001b[43m)\u001b[49m\n\u001b[0;32m      2\u001b[0m \u001b[38;5;28mprint\u001b[39m(\u001b[38;5;124m'\u001b[39m\u001b[38;5;124m-- NULL VALUES --\u001b[39m\u001b[38;5;124m'\u001b[39m)\n\u001b[0;32m      3\u001b[0m \u001b[38;5;28mprint\u001b[39m(order_products_prior\u001b[38;5;241m.\u001b[39misna()\u001b[38;5;241m.\u001b[39msum(), \u001b[38;5;124m'\u001b[39m\u001b[38;5;130;01m\\n\u001b[39;00m\u001b[38;5;124m'\u001b[39m)\n",
      "File \u001b[1;32m~\\anaconda3\\envs\\instacart_project\\lib\\site-packages\\pandas\\io\\parsers.py:610\u001b[0m, in \u001b[0;36mread_csv\u001b[1;34m(filepath_or_buffer, sep, delimiter, header, names, index_col, usecols, squeeze, prefix, mangle_dupe_cols, dtype, engine, converters, true_values, false_values, skipinitialspace, skiprows, skipfooter, nrows, na_values, keep_default_na, na_filter, verbose, skip_blank_lines, parse_dates, infer_datetime_format, keep_date_col, date_parser, dayfirst, cache_dates, iterator, chunksize, compression, thousands, decimal, lineterminator, quotechar, quoting, doublequote, escapechar, comment, encoding, dialect, error_bad_lines, warn_bad_lines, delim_whitespace, low_memory, memory_map, float_precision, storage_options)\u001b[0m\n\u001b[0;32m    605\u001b[0m kwds_defaults \u001b[38;5;241m=\u001b[39m _refine_defaults_read(\n\u001b[0;32m    606\u001b[0m     dialect, delimiter, delim_whitespace, engine, sep, defaults\u001b[38;5;241m=\u001b[39m{\u001b[38;5;124m\"\u001b[39m\u001b[38;5;124mdelimiter\u001b[39m\u001b[38;5;124m\"\u001b[39m: \u001b[38;5;124m\"\u001b[39m\u001b[38;5;124m,\u001b[39m\u001b[38;5;124m\"\u001b[39m}\n\u001b[0;32m    607\u001b[0m )\n\u001b[0;32m    608\u001b[0m kwds\u001b[38;5;241m.\u001b[39mupdate(kwds_defaults)\n\u001b[1;32m--> 610\u001b[0m \u001b[38;5;28;01mreturn\u001b[39;00m \u001b[43m_read\u001b[49m\u001b[43m(\u001b[49m\u001b[43mfilepath_or_buffer\u001b[49m\u001b[43m,\u001b[49m\u001b[43m \u001b[49m\u001b[43mkwds\u001b[49m\u001b[43m)\u001b[49m\n",
      "File \u001b[1;32m~\\anaconda3\\envs\\instacart_project\\lib\\site-packages\\pandas\\io\\parsers.py:468\u001b[0m, in \u001b[0;36m_read\u001b[1;34m(filepath_or_buffer, kwds)\u001b[0m\n\u001b[0;32m    465\u001b[0m     \u001b[38;5;28;01mreturn\u001b[39;00m parser\n\u001b[0;32m    467\u001b[0m \u001b[38;5;28;01mwith\u001b[39;00m parser:\n\u001b[1;32m--> 468\u001b[0m     \u001b[38;5;28;01mreturn\u001b[39;00m \u001b[43mparser\u001b[49m\u001b[38;5;241;43m.\u001b[39;49m\u001b[43mread\u001b[49m\u001b[43m(\u001b[49m\u001b[43mnrows\u001b[49m\u001b[43m)\u001b[49m\n",
      "File \u001b[1;32m~\\anaconda3\\envs\\instacart_project\\lib\\site-packages\\pandas\\io\\parsers.py:1069\u001b[0m, in \u001b[0;36mTextFileReader.read\u001b[1;34m(self, nrows)\u001b[0m\n\u001b[0;32m   1066\u001b[0m \u001b[38;5;28;01melse\u001b[39;00m:\n\u001b[0;32m   1067\u001b[0m     new_rows \u001b[38;5;241m=\u001b[39m \u001b[38;5;28mlen\u001b[39m(index)\n\u001b[1;32m-> 1069\u001b[0m df \u001b[38;5;241m=\u001b[39m \u001b[43mDataFrame\u001b[49m\u001b[43m(\u001b[49m\u001b[43mcol_dict\u001b[49m\u001b[43m,\u001b[49m\u001b[43m \u001b[49m\u001b[43mcolumns\u001b[49m\u001b[38;5;241;43m=\u001b[39;49m\u001b[43mcolumns\u001b[49m\u001b[43m,\u001b[49m\u001b[43m \u001b[49m\u001b[43mindex\u001b[49m\u001b[38;5;241;43m=\u001b[39;49m\u001b[43mindex\u001b[49m\u001b[43m)\u001b[49m\n\u001b[0;32m   1071\u001b[0m \u001b[38;5;28mself\u001b[39m\u001b[38;5;241m.\u001b[39m_currow \u001b[38;5;241m+\u001b[39m\u001b[38;5;241m=\u001b[39m new_rows\n\u001b[0;32m   1073\u001b[0m \u001b[38;5;28;01mif\u001b[39;00m \u001b[38;5;28mself\u001b[39m\u001b[38;5;241m.\u001b[39msqueeze \u001b[38;5;129;01mand\u001b[39;00m \u001b[38;5;28mlen\u001b[39m(df\u001b[38;5;241m.\u001b[39mcolumns) \u001b[38;5;241m==\u001b[39m \u001b[38;5;241m1\u001b[39m:\n",
      "File \u001b[1;32m~\\anaconda3\\envs\\instacart_project\\lib\\site-packages\\pandas\\core\\frame.py:529\u001b[0m, in \u001b[0;36mDataFrame.__init__\u001b[1;34m(self, data, index, columns, dtype, copy)\u001b[0m\n\u001b[0;32m    524\u001b[0m     mgr \u001b[38;5;241m=\u001b[39m \u001b[38;5;28mself\u001b[39m\u001b[38;5;241m.\u001b[39m_init_mgr(\n\u001b[0;32m    525\u001b[0m         data, axes\u001b[38;5;241m=\u001b[39m{\u001b[38;5;124m\"\u001b[39m\u001b[38;5;124mindex\u001b[39m\u001b[38;5;124m\"\u001b[39m: index, \u001b[38;5;124m\"\u001b[39m\u001b[38;5;124mcolumns\u001b[39m\u001b[38;5;124m\"\u001b[39m: columns}, dtype\u001b[38;5;241m=\u001b[39mdtype, copy\u001b[38;5;241m=\u001b[39mcopy\n\u001b[0;32m    526\u001b[0m     )\n\u001b[0;32m    528\u001b[0m \u001b[38;5;28;01melif\u001b[39;00m \u001b[38;5;28misinstance\u001b[39m(data, \u001b[38;5;28mdict\u001b[39m):\n\u001b[1;32m--> 529\u001b[0m     mgr \u001b[38;5;241m=\u001b[39m \u001b[43minit_dict\u001b[49m\u001b[43m(\u001b[49m\u001b[43mdata\u001b[49m\u001b[43m,\u001b[49m\u001b[43m \u001b[49m\u001b[43mindex\u001b[49m\u001b[43m,\u001b[49m\u001b[43m \u001b[49m\u001b[43mcolumns\u001b[49m\u001b[43m,\u001b[49m\u001b[43m \u001b[49m\u001b[43mdtype\u001b[49m\u001b[38;5;241;43m=\u001b[39;49m\u001b[43mdtype\u001b[49m\u001b[43m)\u001b[49m\n\u001b[0;32m    530\u001b[0m \u001b[38;5;28;01melif\u001b[39;00m \u001b[38;5;28misinstance\u001b[39m(data, ma\u001b[38;5;241m.\u001b[39mMaskedArray):\n\u001b[0;32m    531\u001b[0m     \u001b[38;5;28;01mimport\u001b[39;00m \u001b[38;5;21;01mnumpy\u001b[39;00m\u001b[38;5;21;01m.\u001b[39;00m\u001b[38;5;21;01mma\u001b[39;00m\u001b[38;5;21;01m.\u001b[39;00m\u001b[38;5;21;01mmrecords\u001b[39;00m \u001b[38;5;28;01mas\u001b[39;00m \u001b[38;5;21;01mmrecords\u001b[39;00m\n",
      "File \u001b[1;32m~\\anaconda3\\envs\\instacart_project\\lib\\site-packages\\pandas\\core\\internals\\construction.py:287\u001b[0m, in \u001b[0;36minit_dict\u001b[1;34m(data, index, columns, dtype)\u001b[0m\n\u001b[0;32m    281\u001b[0m     arrays \u001b[38;5;241m=\u001b[39m [\n\u001b[0;32m    282\u001b[0m         arr \u001b[38;5;28;01mif\u001b[39;00m \u001b[38;5;129;01mnot\u001b[39;00m \u001b[38;5;28misinstance\u001b[39m(arr, ABCIndexClass) \u001b[38;5;28;01melse\u001b[39;00m arr\u001b[38;5;241m.\u001b[39m_data \u001b[38;5;28;01mfor\u001b[39;00m arr \u001b[38;5;129;01min\u001b[39;00m arrays\n\u001b[0;32m    283\u001b[0m     ]\n\u001b[0;32m    284\u001b[0m     arrays \u001b[38;5;241m=\u001b[39m [\n\u001b[0;32m    285\u001b[0m         arr \u001b[38;5;28;01mif\u001b[39;00m \u001b[38;5;129;01mnot\u001b[39;00m is_datetime64tz_dtype(arr) \u001b[38;5;28;01melse\u001b[39;00m arr\u001b[38;5;241m.\u001b[39mcopy() \u001b[38;5;28;01mfor\u001b[39;00m arr \u001b[38;5;129;01min\u001b[39;00m arrays\n\u001b[0;32m    286\u001b[0m     ]\n\u001b[1;32m--> 287\u001b[0m \u001b[38;5;28;01mreturn\u001b[39;00m \u001b[43marrays_to_mgr\u001b[49m\u001b[43m(\u001b[49m\u001b[43marrays\u001b[49m\u001b[43m,\u001b[49m\u001b[43m \u001b[49m\u001b[43mdata_names\u001b[49m\u001b[43m,\u001b[49m\u001b[43m \u001b[49m\u001b[43mindex\u001b[49m\u001b[43m,\u001b[49m\u001b[43m \u001b[49m\u001b[43mcolumns\u001b[49m\u001b[43m,\u001b[49m\u001b[43m \u001b[49m\u001b[43mdtype\u001b[49m\u001b[38;5;241;43m=\u001b[39;49m\u001b[43mdtype\u001b[49m\u001b[43m)\u001b[49m\n",
      "File \u001b[1;32m~\\anaconda3\\envs\\instacart_project\\lib\\site-packages\\pandas\\core\\internals\\construction.py:95\u001b[0m, in \u001b[0;36marrays_to_mgr\u001b[1;34m(arrays, arr_names, index, columns, dtype, verify_integrity)\u001b[0m\n\u001b[0;32m     92\u001b[0m \u001b[38;5;66;03m# from BlockManager perspective\u001b[39;00m\n\u001b[0;32m     93\u001b[0m axes \u001b[38;5;241m=\u001b[39m [columns, index]\n\u001b[1;32m---> 95\u001b[0m \u001b[38;5;28;01mreturn\u001b[39;00m \u001b[43mcreate_block_manager_from_arrays\u001b[49m\u001b[43m(\u001b[49m\u001b[43marrays\u001b[49m\u001b[43m,\u001b[49m\u001b[43m \u001b[49m\u001b[43marr_names\u001b[49m\u001b[43m,\u001b[49m\u001b[43m \u001b[49m\u001b[43maxes\u001b[49m\u001b[43m)\u001b[49m\n",
      "File \u001b[1;32m~\\anaconda3\\envs\\instacart_project\\lib\\site-packages\\pandas\\core\\internals\\managers.py:1701\u001b[0m, in \u001b[0;36mcreate_block_manager_from_arrays\u001b[1;34m(arrays, names, axes)\u001b[0m\n\u001b[0;32m   1699\u001b[0m arrays \u001b[38;5;241m=\u001b[39m [x \u001b[38;5;28;01mif\u001b[39;00m \u001b[38;5;129;01mnot\u001b[39;00m \u001b[38;5;28misinstance\u001b[39m(x, ABCPandasArray) \u001b[38;5;28;01melse\u001b[39;00m x\u001b[38;5;241m.\u001b[39mto_numpy() \u001b[38;5;28;01mfor\u001b[39;00m x \u001b[38;5;129;01min\u001b[39;00m arrays]\n\u001b[0;32m   1700\u001b[0m \u001b[38;5;28;01mtry\u001b[39;00m:\n\u001b[1;32m-> 1701\u001b[0m     blocks \u001b[38;5;241m=\u001b[39m \u001b[43m_form_blocks\u001b[49m\u001b[43m(\u001b[49m\u001b[43marrays\u001b[49m\u001b[43m,\u001b[49m\u001b[43m \u001b[49m\u001b[43mnames\u001b[49m\u001b[43m,\u001b[49m\u001b[43m \u001b[49m\u001b[43maxes\u001b[49m\u001b[43m)\u001b[49m\n\u001b[0;32m   1702\u001b[0m     mgr \u001b[38;5;241m=\u001b[39m BlockManager(blocks, axes)\n\u001b[0;32m   1703\u001b[0m     mgr\u001b[38;5;241m.\u001b[39m_consolidate_inplace()\n",
      "File \u001b[1;32m~\\anaconda3\\envs\\instacart_project\\lib\\site-packages\\pandas\\core\\internals\\managers.py:1771\u001b[0m, in \u001b[0;36m_form_blocks\u001b[1;34m(arrays, names, axes)\u001b[0m\n\u001b[0;32m   1768\u001b[0m     blocks\u001b[38;5;241m.\u001b[39mextend(timedelta_blocks)\n\u001b[0;32m   1770\u001b[0m \u001b[38;5;28;01mif\u001b[39;00m \u001b[38;5;28mlen\u001b[39m(items_dict[\u001b[38;5;124m\"\u001b[39m\u001b[38;5;124mIntBlock\u001b[39m\u001b[38;5;124m\"\u001b[39m]):\n\u001b[1;32m-> 1771\u001b[0m     int_blocks \u001b[38;5;241m=\u001b[39m \u001b[43m_multi_blockify\u001b[49m\u001b[43m(\u001b[49m\u001b[43mitems_dict\u001b[49m\u001b[43m[\u001b[49m\u001b[38;5;124;43m\"\u001b[39;49m\u001b[38;5;124;43mIntBlock\u001b[39;49m\u001b[38;5;124;43m\"\u001b[39;49m\u001b[43m]\u001b[49m\u001b[43m)\u001b[49m\n\u001b[0;32m   1772\u001b[0m     blocks\u001b[38;5;241m.\u001b[39mextend(int_blocks)\n\u001b[0;32m   1774\u001b[0m \u001b[38;5;28;01mif\u001b[39;00m \u001b[38;5;28mlen\u001b[39m(items_dict[\u001b[38;5;124m\"\u001b[39m\u001b[38;5;124mDatetimeBlock\u001b[39m\u001b[38;5;124m\"\u001b[39m]):\n",
      "File \u001b[1;32m~\\anaconda3\\envs\\instacart_project\\lib\\site-packages\\pandas\\core\\internals\\managers.py:1852\u001b[0m, in \u001b[0;36m_multi_blockify\u001b[1;34m(tuples, dtype)\u001b[0m\n\u001b[0;32m   1849\u001b[0m new_blocks \u001b[38;5;241m=\u001b[39m []\n\u001b[0;32m   1850\u001b[0m \u001b[38;5;28;01mfor\u001b[39;00m dtype, tup_block \u001b[38;5;129;01min\u001b[39;00m grouper:\n\u001b[1;32m-> 1852\u001b[0m     values, placement \u001b[38;5;241m=\u001b[39m \u001b[43m_stack_arrays\u001b[49m\u001b[43m(\u001b[49m\u001b[38;5;28;43mlist\u001b[39;49m\u001b[43m(\u001b[49m\u001b[43mtup_block\u001b[49m\u001b[43m)\u001b[49m\u001b[43m,\u001b[49m\u001b[43m \u001b[49m\u001b[43mdtype\u001b[49m\u001b[43m)\u001b[49m\n\u001b[0;32m   1854\u001b[0m     block \u001b[38;5;241m=\u001b[39m make_block(values, placement\u001b[38;5;241m=\u001b[39mplacement, ndim\u001b[38;5;241m=\u001b[39m\u001b[38;5;241m2\u001b[39m)\n\u001b[0;32m   1855\u001b[0m     new_blocks\u001b[38;5;241m.\u001b[39mappend(block)\n",
      "File \u001b[1;32m~\\anaconda3\\envs\\instacart_project\\lib\\site-packages\\pandas\\core\\internals\\managers.py:1880\u001b[0m, in \u001b[0;36m_stack_arrays\u001b[1;34m(tuples, dtype)\u001b[0m\n\u001b[0;32m   1877\u001b[0m first \u001b[38;5;241m=\u001b[39m arrays[\u001b[38;5;241m0\u001b[39m]\n\u001b[0;32m   1878\u001b[0m shape \u001b[38;5;241m=\u001b[39m (\u001b[38;5;28mlen\u001b[39m(arrays),) \u001b[38;5;241m+\u001b[39m _shape_compat(first)\n\u001b[1;32m-> 1880\u001b[0m stacked \u001b[38;5;241m=\u001b[39m \u001b[43mnp\u001b[49m\u001b[38;5;241;43m.\u001b[39;49m\u001b[43mempty\u001b[49m\u001b[43m(\u001b[49m\u001b[43mshape\u001b[49m\u001b[43m,\u001b[49m\u001b[43m \u001b[49m\u001b[43mdtype\u001b[49m\u001b[38;5;241;43m=\u001b[39;49m\u001b[43mdtype\u001b[49m\u001b[43m)\u001b[49m\n\u001b[0;32m   1881\u001b[0m \u001b[38;5;28;01mfor\u001b[39;00m i, arr \u001b[38;5;129;01min\u001b[39;00m \u001b[38;5;28menumerate\u001b[39m(arrays):\n\u001b[0;32m   1882\u001b[0m     stacked[i] \u001b[38;5;241m=\u001b[39m _asarray_compat(arr)\n",
      "\u001b[1;31mMemoryError\u001b[0m: Unable to allocate 990. MiB for an array with shape (4, 32434489) and data type int64"
     ]
    }
   ],
   "source": [
    "order_products_prior = pd.read_csv('../data/order_products__prior.csv')\n",
    "print('-- NULL VALUES --')\n",
    "print(order_products_prior.isna().sum(), '\\n')\n",
    "print('-- INFO --')\n",
    "order_products_prior.info()\n",
    "print()\n",
    "print('-- SUMMARY --')\n",
    "display(round(order_products_prior.describe().T,2))\n",
    "print()\n",
    "print('-- FIRST 5 ROWS --')\n",
    "display(order_products_prior.head())"
   ]
  },
  {
   "cell_type": "code",
   "execution_count": null,
   "id": "b892918e",
   "metadata": {},
   "outputs": [],
   "source": [
    "orders_full = pd.merge(orders, order_products_prior, on = 'order_id')\n",
    "print('-- NULL VALUES --')\n",
    "print(orders_full.isna().sum(), '\\n')\n",
    "print('-- INFO --')\n",
    "orders_full.info()\n",
    "print()\n",
    "print('-- SUMMARY --')\n",
    "# display(round(orders_full.describe().T,2))\n",
    "print()\n",
    "print('-- FIRST 5 ROWS --')\n",
    "display(orders_full.head())"
   ]
  },
  {
   "cell_type": "markdown",
   "id": "9b34916e",
   "metadata": {},
   "source": [
    "### Merging info file and orders file."
   ]
  },
  {
   "cell_type": "code",
   "execution_count": null,
   "id": "9bbbb00c",
   "metadata": {},
   "outputs": [],
   "source": [
    "info_orders = pd.merge(orders_full, info, on = 'product_id')\n",
    "print('-- NULL VALUES --')\n",
    "print(info_orders.isna().sum(), '\\n')\n",
    "print('-- INFO --')\n",
    "info_orders.info()\n",
    "print()\n",
    "print('-- SUMMARY --')\n",
    "display(round(info_orders.describe().T,2))\n",
    "print()\n",
    "print('-- FIRST 5 ROWS --')\n",
    "display(info_orders.head())"
   ]
  },
  {
   "cell_type": "code",
   "execution_count": null,
   "id": "59b7257b",
   "metadata": {
    "scrolled": true
   },
   "outputs": [],
   "source": [
    "sorted_instacart = info_orders.sort_values(by='order_id').reset_index(drop=True)\n",
    "sorted_instacart.tail()"
   ]
  },
  {
   "cell_type": "code",
   "execution_count": null,
   "id": "c095efee",
   "metadata": {},
   "outputs": [],
   "source": [
    "sorted_instacart = sorted_instacart.drop('eval_set', axis = 1)\n",
    "instacart_sample = sorted_instacart[sorted_instacart['user_id'] <= 200000].reset_index(drop=True)"
   ]
  },
  {
   "cell_type": "code",
   "execution_count": null,
   "id": "a467d68f",
   "metadata": {},
   "outputs": [],
   "source": [
    "instacart_sample.to_csv('../data/instacart_sample.csv')"
   ]
  },
  {
   "cell_type": "markdown",
   "id": "ab1b06a6",
   "metadata": {},
   "source": [
    "## EDA"
   ]
  },
  {
   "cell_type": "markdown",
   "id": "bd043c8e",
   "metadata": {},
   "source": [
    "* Time period\n",
    "* How many products?\n",
    "* Boxplot distribution of products"
   ]
  },
  {
   "cell_type": "markdown",
   "id": "c52a46c0",
   "metadata": {},
   "source": [
    "#### How many users and orders?"
   ]
  },
  {
   "cell_type": "code",
   "execution_count": null,
   "id": "648aafdb",
   "metadata": {},
   "outputs": [],
   "source": [
    "print('Number of users:', instacart_sample['user_id'].nunique())\n",
    "print('Total number of orders:', instacart_sample['order_id'].nunique())"
   ]
  },
  {
   "cell_type": "markdown",
   "id": "cd9cb604",
   "metadata": {},
   "source": [
    "#### How many purchases (orders) by user?"
   ]
  },
  {
   "cell_type": "code",
   "execution_count": null,
   "id": "c300c3c5",
   "metadata": {},
   "outputs": [],
   "source": [
    "order_by_user = instacart_sample.groupby('user_id')['order_number'].max()\n",
    "order_by_user_df = pd.Series.to_frame(order_by_user) \n",
    "order_by_user_df.head()"
   ]
  },
  {
   "cell_type": "code",
   "execution_count": null,
   "id": "356a592c",
   "metadata": {
    "scrolled": true
   },
   "outputs": [],
   "source": [
    "print('Max number of orders by user:', max(order_by_user_df['order_number']))\n",
    "print('Min number of orders by user:', min(order_by_user_df['order_number']))\n",
    "print('Median number of orders by user:', round(np.median(order_by_user_df['order_number'])))\n",
    "print('Mean number of orders by user:', round(np.mean(order_by_user_df['order_number'])))"
   ]
  },
  {
   "cell_type": "code",
   "execution_count": null,
   "id": "066a6dc3",
   "metadata": {},
   "outputs": [],
   "source": [
    "fig, ax = plt.subplots(figsize = (40,25), dpi = 100) \n",
    "sns.countplot(x=order_by_user_df['order_number'])\n",
    "ax.set(xlabel='Number of orders', ylabel='Users')\n",
    "plt.show()"
   ]
  },
  {
   "cell_type": "markdown",
   "id": "d2024261",
   "metadata": {},
   "source": [
    "#### Most 'popular' day"
   ]
  },
  {
   "cell_type": "code",
   "execution_count": null,
   "id": "89191aaa",
   "metadata": {},
   "outputs": [],
   "source": [
    "orders_day = instacart_sample.groupby('order_id')['order_dow'].max()\n",
    "orders_day"
   ]
  },
  {
   "cell_type": "code",
   "execution_count": null,
   "id": "392cf7ae",
   "metadata": {},
   "outputs": [],
   "source": [
    "fig, ax = plt.subplots(figsize = (40,25), dpi = 100) \n",
    "sns.countplot(x=orders_day.values)\n",
    "ax.set(xlabel='Days of the Week', ylabel='Number of orders')\n",
    "plt.show()"
   ]
  },
  {
   "cell_type": "markdown",
   "id": "07bdfa2b",
   "metadata": {},
   "source": [
    "#### Most 'popular' hour"
   ]
  },
  {
   "cell_type": "code",
   "execution_count": null,
   "id": "bec79336",
   "metadata": {},
   "outputs": [],
   "source": [
    "orders_hour = instacart_sample.groupby('order_id')['order_hour_of_day'].max()\n",
    "orders_hour"
   ]
  },
  {
   "cell_type": "code",
   "execution_count": null,
   "id": "e51f6ccf",
   "metadata": {},
   "outputs": [],
   "source": [
    "fig, ax = plt.subplots(figsize = (40,25), dpi = 100) \n",
    "sns.countplot(x=orders_hour.values)\n",
    "ax.set(xlabel='Hours of the day', ylabel='Number of orders')\n",
    "plt.show()"
   ]
  },
  {
   "cell_type": "markdown",
   "id": "bb5e8f43",
   "metadata": {},
   "source": [
    "#### How many days goes by between orders?"
   ]
  },
  {
   "cell_type": "code",
   "execution_count": null,
   "id": "764ecd91",
   "metadata": {},
   "outputs": [],
   "source": [
    "reorders_time = instacart_sample.groupby('order_id')['days_since_prior_order'].max()\n",
    "reorders_time"
   ]
  },
  {
   "cell_type": "code",
   "execution_count": null,
   "id": "57f5409a",
   "metadata": {
    "scrolled": true
   },
   "outputs": [],
   "source": [
    "fig, ax = plt.subplots(figsize = (40,25), dpi = 100) \n",
    "sns.countplot(x=reorders_time.values)\n",
    "ax.set(xlabel='Days between orders', ylabel='Number of orders')\n",
    "plt.show()"
   ]
  },
  {
   "cell_type": "markdown",
   "id": "4d0cfcc4",
   "metadata": {},
   "source": [
    "#### Most ordered products"
   ]
  },
  {
   "cell_type": "code",
   "execution_count": null,
   "id": "a1afeaeb",
   "metadata": {},
   "outputs": [],
   "source": [
    "top_20_ordered_prod = instacart_sample[['product_name', 'aisle']].value_counts().head(20)\n",
    "pd.Series.to_frame(top_20_ordered_prod)"
   ]
  },
  {
   "cell_type": "markdown",
   "id": "fa55f6b8",
   "metadata": {},
   "source": [
    "#### Most reordered products"
   ]
  },
  {
   "cell_type": "code",
   "execution_count": null,
   "id": "e9772c49",
   "metadata": {},
   "outputs": [],
   "source": [
    "reordered_prod = instacart_sample.loc[instacart_sample['reordered'] == 1]\n",
    "top20_products = reordered_prod[['product_name','aisle']].value_counts().head(200)\n",
    "pd.Series.to_frame(top20_products)"
   ]
  },
  {
   "cell_type": "markdown",
   "id": "7e4168ac",
   "metadata": {},
   "source": [
    "#### Most visited 'aisles'"
   ]
  },
  {
   "cell_type": "code",
   "execution_count": null,
   "id": "454ffeab",
   "metadata": {},
   "outputs": [],
   "source": [
    "top10_aisles = instacart_sample['aisle'].value_counts().head(10)\n",
    "top10_aisles"
   ]
  },
  {
   "cell_type": "code",
   "execution_count": null,
   "id": "6798587f",
   "metadata": {
    "scrolled": false
   },
   "outputs": [],
   "source": [
    "labels = ['fresh fruits', 'fresh vegetables', 'packaged vegetables fruits', 'yogurt', 'milk', 'packaged cheese',\n",
    "         'water seltzen sparkling water', 'chips pretzels', 'bread', 'soy lactosefree']\n",
    "ax, fig = plt.subplots(figsize=(15,10))\n",
    "plt.pie(top10_aisles, labels = labels, autopct='%.0f%%')\n",
    "plt.show()"
   ]
  },
  {
   "cell_type": "markdown",
   "id": "6affafa8",
   "metadata": {},
   "source": [
    "### Time period: one year"
   ]
  },
  {
   "cell_type": "markdown",
   "id": "20c63958",
   "metadata": {},
   "source": [
    "Could we infere the period time? If a customer has ordered 12 times with a frequency of XX days, we could know the period of time for our data. Let's compute the sum of days for each customer to check the maximum value of days_since_prior_order and get the time range."
   ]
  },
  {
   "cell_type": "code",
   "execution_count": null,
   "id": "c2b48cb9",
   "metadata": {
    "scrolled": true
   },
   "outputs": [],
   "source": [
    "orders.head()"
   ]
  },
  {
   "cell_type": "code",
   "execution_count": null,
   "id": "c6965a7b",
   "metadata": {},
   "outputs": [],
   "source": [
    "orders.loc[orders['days_since_prior_order'] == 0]"
   ]
  },
  {
   "cell_type": "code",
   "execution_count": null,
   "id": "dac308db",
   "metadata": {},
   "outputs": [],
   "source": [
    "sum_days_orders = orders.groupby('user_id')['days_since_prior_order'].sum()\n",
    "max(sum_days_orders)"
   ]
  }
 ],
 "metadata": {
  "kernelspec": {
   "display_name": "Python 3 (ipykernel)",
   "language": "python",
   "name": "python3"
  },
  "language_info": {
   "codemirror_mode": {
    "name": "ipython",
    "version": 3
   },
   "file_extension": ".py",
   "mimetype": "text/x-python",
   "name": "python",
   "nbconvert_exporter": "python",
   "pygments_lexer": "ipython3",
   "version": "3.9.13"
  }
 },
 "nbformat": 4,
 "nbformat_minor": 5
}
