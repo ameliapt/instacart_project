{
 "cells": [
  {
   "cell_type": "markdown",
   "id": "0c4d12f7",
   "metadata": {},
   "source": [
    "# EDA"
   ]
  },
  {
   "cell_type": "code",
   "execution_count": 3,
   "id": "38f75229",
   "metadata": {},
   "outputs": [],
   "source": [
    "import pandas as pd \n",
    "import numpy as np\n",
    "import matplotlib.pyplot as plt\n",
    "import seaborn as sns"
   ]
  },
  {
   "cell_type": "code",
   "execution_count": 5,
   "id": "587f1270",
   "metadata": {},
   "outputs": [
    {
     "data": {
      "text/html": [
       "<div>\n",
       "<style scoped>\n",
       "    .dataframe tbody tr th:only-of-type {\n",
       "        vertical-align: middle;\n",
       "    }\n",
       "\n",
       "    .dataframe tbody tr th {\n",
       "        vertical-align: top;\n",
       "    }\n",
       "\n",
       "    .dataframe thead th {\n",
       "        text-align: right;\n",
       "    }\n",
       "</style>\n",
       "<table border=\"1\" class=\"dataframe\">\n",
       "  <thead>\n",
       "    <tr style=\"text-align: right;\">\n",
       "      <th></th>\n",
       "      <th>order_id</th>\n",
       "      <th>user_id</th>\n",
       "      <th>order_number</th>\n",
       "      <th>order_dow</th>\n",
       "      <th>order_hour_of_day</th>\n",
       "      <th>days_since_prior_order</th>\n",
       "      <th>product_id</th>\n",
       "      <th>add_to_cart_order</th>\n",
       "      <th>reordered</th>\n",
       "      <th>product_name</th>\n",
       "      <th>department_id</th>\n",
       "      <th>aisle_id</th>\n",
       "      <th>aisle</th>\n",
       "      <th>department</th>\n",
       "    </tr>\n",
       "  </thead>\n",
       "  <tbody>\n",
       "    <tr>\n",
       "      <th>0</th>\n",
       "      <td>4</td>\n",
       "      <td>178520</td>\n",
       "      <td>36</td>\n",
       "      <td>1</td>\n",
       "      <td>9</td>\n",
       "      <td>7.0</td>\n",
       "      <td>25146</td>\n",
       "      <td>11</td>\n",
       "      <td>1</td>\n",
       "      <td>Original Orange Juice</td>\n",
       "      <td>7</td>\n",
       "      <td>31.0</td>\n",
       "      <td>refrigerated</td>\n",
       "      <td>beverages</td>\n",
       "    </tr>\n",
       "    <tr>\n",
       "      <th>1</th>\n",
       "      <td>4</td>\n",
       "      <td>178520</td>\n",
       "      <td>36</td>\n",
       "      <td>1</td>\n",
       "      <td>9</td>\n",
       "      <td>7.0</td>\n",
       "      <td>10054</td>\n",
       "      <td>5</td>\n",
       "      <td>1</td>\n",
       "      <td>Kellogg's Nutri-Grain Apple Cinnamon Cereal</td>\n",
       "      <td>14</td>\n",
       "      <td>48.0</td>\n",
       "      <td>breakfast bars pastries</td>\n",
       "      <td>breakfast</td>\n",
       "    </tr>\n",
       "    <tr>\n",
       "      <th>2</th>\n",
       "      <td>4</td>\n",
       "      <td>178520</td>\n",
       "      <td>36</td>\n",
       "      <td>1</td>\n",
       "      <td>9</td>\n",
       "      <td>7.0</td>\n",
       "      <td>17616</td>\n",
       "      <td>10</td>\n",
       "      <td>1</td>\n",
       "      <td>Goldfish Cheddar Baked Snack Crackers</td>\n",
       "      <td>19</td>\n",
       "      <td>78.0</td>\n",
       "      <td>crackers</td>\n",
       "      <td>snacks</td>\n",
       "    </tr>\n",
       "    <tr>\n",
       "      <th>3</th>\n",
       "      <td>4</td>\n",
       "      <td>178520</td>\n",
       "      <td>36</td>\n",
       "      <td>1</td>\n",
       "      <td>9</td>\n",
       "      <td>7.0</td>\n",
       "      <td>26434</td>\n",
       "      <td>2</td>\n",
       "      <td>1</td>\n",
       "      <td>Honey/Lemon Cough Drops</td>\n",
       "      <td>11</td>\n",
       "      <td>11.0</td>\n",
       "      <td>cold flu allergy</td>\n",
       "      <td>personal care</td>\n",
       "    </tr>\n",
       "    <tr>\n",
       "      <th>4</th>\n",
       "      <td>4</td>\n",
       "      <td>178520</td>\n",
       "      <td>36</td>\n",
       "      <td>1</td>\n",
       "      <td>9</td>\n",
       "      <td>7.0</td>\n",
       "      <td>32645</td>\n",
       "      <td>12</td>\n",
       "      <td>1</td>\n",
       "      <td>Sugarfree Energy Drink</td>\n",
       "      <td>7</td>\n",
       "      <td>64.0</td>\n",
       "      <td>energy sports drinks</td>\n",
       "      <td>beverages</td>\n",
       "    </tr>\n",
       "  </tbody>\n",
       "</table>\n",
       "</div>"
      ],
      "text/plain": [
       "   order_id  user_id  order_number  order_dow  order_hour_of_day  \\\n",
       "0         4   178520            36          1                  9   \n",
       "1         4   178520            36          1                  9   \n",
       "2         4   178520            36          1                  9   \n",
       "3         4   178520            36          1                  9   \n",
       "4         4   178520            36          1                  9   \n",
       "\n",
       "   days_since_prior_order  product_id  add_to_cart_order  reordered  \\\n",
       "0                     7.0       25146                 11          1   \n",
       "1                     7.0       10054                  5          1   \n",
       "2                     7.0       17616                 10          1   \n",
       "3                     7.0       26434                  2          1   \n",
       "4                     7.0       32645                 12          1   \n",
       "\n",
       "                                  product_name  department_id  aisle_id  \\\n",
       "0                        Original Orange Juice              7      31.0   \n",
       "1  Kellogg's Nutri-Grain Apple Cinnamon Cereal             14      48.0   \n",
       "2        Goldfish Cheddar Baked Snack Crackers             19      78.0   \n",
       "3                      Honey/Lemon Cough Drops             11      11.0   \n",
       "4                       Sugarfree Energy Drink              7      64.0   \n",
       "\n",
       "                     aisle     department  \n",
       "0             refrigerated      beverages  \n",
       "1  breakfast bars pastries      breakfast  \n",
       "2                 crackers         snacks  \n",
       "3         cold flu allergy  personal care  \n",
       "4     energy sports drinks      beverages  "
      ]
     },
     "execution_count": 5,
     "metadata": {},
     "output_type": "execute_result"
    }
   ],
   "source": [
    "# instacart = pd.read_csv('../data/instacart_sample.csv')\n",
    "instacart.drop('Unnamed: 0', axis=1, inplace=True)\n",
    "instacart.head()"
   ]
  },
  {
   "cell_type": "markdown",
   "id": "abbb22cf",
   "metadata": {},
   "source": [
    "* Time period\n",
    "* How many products?\n",
    "* Boxplot distribution of products"
   ]
  },
  {
   "cell_type": "code",
   "execution_count": null,
   "id": "3c8a8f5d",
   "metadata": {},
   "outputs": [],
   "source": [
    "#### How many users and orders?"
   ]
  },
  {
   "cell_type": "code",
   "execution_count": null,
   "id": "91633547",
   "metadata": {},
   "outputs": [],
   "source": [
    "print('Number of users:', instacart_sample['user_id'].nunique())\n",
    "print('Total number of orders:', instacart_sample['order_id'].nunique())"
   ]
  },
  {
   "cell_type": "code",
   "execution_count": null,
   "id": "9411e39e",
   "metadata": {},
   "outputs": [],
   "source": [
    "#### How many purchases (orders) by user?"
   ]
  },
  {
   "cell_type": "code",
   "execution_count": null,
   "id": "4b605a15",
   "metadata": {},
   "outputs": [],
   "source": [
    "order_by_user = instacart_sample.groupby('user_id')['order_number'].max()\n",
    "order_by_user_df = pd.Series.to_frame(order_by_user) \n",
    "order_by_user_df.head()"
   ]
  },
  {
   "cell_type": "code",
   "execution_count": null,
   "id": "0d4cf42c",
   "metadata": {},
   "outputs": [],
   "source": [
    "print('Max number of orders by user:', max(order_by_user_df['order_number']))\n",
    "print('Min number of orders by user:', min(order_by_user_df['order_number']))\n",
    "print('Median number of orders by user:', round(np.median(order_by_user_df['order_number'])))\n",
    "print('Mean number of orders by user:', round(np.mean(order_by_user_df['order_number'])))"
   ]
  },
  {
   "cell_type": "code",
   "execution_count": null,
   "id": "582fa6f3",
   "metadata": {},
   "outputs": [],
   "source": [
    "fig, ax = plt.subplots(figsize = (40,25), dpi = 100) \n",
    "sns.countplot(x=order_by_user_df['order_number'])\n",
    "ax.set(xlabel='Number of orders', ylabel='Users')\n",
    "plt.show()"
   ]
  },
  {
   "cell_type": "code",
   "execution_count": null,
   "id": "6b0299ad",
   "metadata": {},
   "outputs": [],
   "source": [
    "#### Most 'popular' day"
   ]
  },
  {
   "cell_type": "code",
   "execution_count": null,
   "id": "659f4419",
   "metadata": {},
   "outputs": [],
   "source": [
    "orders_day = instacart_sample.groupby('order_id')['order_dow'].max()\n",
    "orders_day\n"
   ]
  },
  {
   "cell_type": "code",
   "execution_count": null,
   "id": "8e2607f4",
   "metadata": {},
   "outputs": [],
   "source": [
    "\n",
    "fig, ax = plt.subplots(figsize = (40,25), dpi = 100) \n",
    "sns.countplot(x=orders_day.values)\n",
    "ax.set(xlabel='Days of the Week', ylabel='Number of orders')\n",
    "plt.show()"
   ]
  },
  {
   "cell_type": "code",
   "execution_count": null,
   "id": "e5d4d5b8",
   "metadata": {},
   "outputs": [],
   "source": [
    "#### Most 'popular' hour\n",
    "\n",
    "orders_hour = instacart_sample.groupby('order_id')['order_hour_of_day'].max()\n",
    "orders_hour\n",
    "\n",
    "fig, ax = plt.subplots(figsize = (40,25), dpi = 100) \n",
    "sns.countplot(x=orders_hour.values)\n",
    "ax.set(xlabel='Hours of the day', ylabel='Number of orders')\n",
    "plt.show()"
   ]
  },
  {
   "cell_type": "code",
   "execution_count": null,
   "id": "7c3c9fe7",
   "metadata": {},
   "outputs": [],
   "source": [
    "#### How many days goes by between orders?"
   ]
  },
  {
   "cell_type": "code",
   "execution_count": null,
   "id": "93fa5812",
   "metadata": {},
   "outputs": [],
   "source": [
    "reorders_time = instacart_sample.groupby('order_id')['days_since_prior_order'].max()\n",
    "reorders_time"
   ]
  },
  {
   "cell_type": "code",
   "execution_count": null,
   "id": "47f05641",
   "metadata": {},
   "outputs": [],
   "source": [
    "fig, ax = plt.subplots(figsize = (40,25), dpi = 100) \n",
    "sns.countplot(x=reorders_time.values)\n",
    "ax.set(xlabel='Days between orders', ylabel='Number of orders')\n",
    "plt.show()"
   ]
  },
  {
   "cell_type": "code",
   "execution_count": null,
   "id": "2b919035",
   "metadata": {},
   "outputs": [],
   "source": [
    "#### Most ordered products"
   ]
  },
  {
   "cell_type": "code",
   "execution_count": null,
   "id": "28505b21",
   "metadata": {},
   "outputs": [],
   "source": [
    "top_20_ordered_prod = instacart_sample[['product_name', 'aisle']].value_counts().head(20)\n",
    "pd.Series.to_frame(top_20_ordered_prod)"
   ]
  },
  {
   "cell_type": "code",
   "execution_count": null,
   "id": "b04570a5",
   "metadata": {},
   "outputs": [],
   "source": [
    "#### Most reordered products"
   ]
  },
  {
   "cell_type": "code",
   "execution_count": null,
   "id": "1169f727",
   "metadata": {},
   "outputs": [],
   "source": [
    "reordered_prod = instacart_sample.loc[instacart_sample['reordered'] == 1]\n",
    "top20_products = reordered_prod[['product_name','aisle']].value_counts().head(200)\n",
    "pd.Series.to_frame(top20_products)"
   ]
  },
  {
   "cell_type": "code",
   "execution_count": null,
   "id": "c8856680",
   "metadata": {},
   "outputs": [],
   "source": [
    "#### Most visited 'aisles'"
   ]
  },
  {
   "cell_type": "code",
   "execution_count": null,
   "id": "f03e2b25",
   "metadata": {},
   "outputs": [],
   "source": [
    "top10_aisles = instacart_sample['aisle'].value_counts().head(10)\n",
    "top10_aisles"
   ]
  },
  {
   "cell_type": "code",
   "execution_count": null,
   "id": "52881f19",
   "metadata": {},
   "outputs": [],
   "source": [
    "labels = ['fresh fruits', 'fresh vegetables', 'packaged vegetables fruits', 'yogurt', 'milk', 'packaged cheese',\n",
    "         'water seltzen sparkling water', 'chips pretzels', 'bread', 'soy lactosefree']\n",
    "ax, fig = plt.subplots(figsize=(15,10))\n",
    "plt.pie(top10_aisles, labels = labels, autopct='%.0f%%')\n",
    "plt.show()"
   ]
  },
  {
   "cell_type": "code",
   "execution_count": null,
   "id": "ebce5576",
   "metadata": {},
   "outputs": [],
   "source": [
    "### Time period: one year"
   ]
  },
  {
   "cell_type": "markdown",
   "id": "5dd8ec0e",
   "metadata": {},
   "source": [
    "Could we infere the period time? If a customer has ordered 12 times with a frequency of XX days, we could know the period of time for our data. Let's compute the sum of days for each customer to check the maximum value of days_since_prior_order and get the time range."
   ]
  },
  {
   "cell_type": "code",
   "execution_count": null,
   "id": "ec8f70ce",
   "metadata": {},
   "outputs": [],
   "source": [
    "orders.head()"
   ]
  },
  {
   "cell_type": "code",
   "execution_count": null,
   "id": "5c0512c8",
   "metadata": {},
   "outputs": [],
   "source": [
    "sum_days_orders = orders.groupby('user_id')['days_since_prior_order'].sum()\n",
    "max(sum_days_orders)"
   ]
  }
 ],
 "metadata": {
  "kernelspec": {
   "display_name": "Python 3 (ipykernel)",
   "language": "python",
   "name": "python3"
  },
  "language_info": {
   "codemirror_mode": {
    "name": "ipython",
    "version": 3
   },
   "file_extension": ".py",
   "mimetype": "text/x-python",
   "name": "python",
   "nbconvert_exporter": "python",
   "pygments_lexer": "ipython3",
   "version": "3.9.13"
  }
 },
 "nbformat": 4,
 "nbformat_minor": 5
}
